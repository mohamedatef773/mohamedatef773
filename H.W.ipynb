{
 "cells": [
  {
   "cell_type": "code",
   "execution_count": null,
   "id": "4221dd77",
   "metadata": {},
   "outputs": [],
   "source": [
    "class clac():\n",
    "    def __init__(self,num1,num2,op):\n",
    "        self.num1=num1\n",
    "        self.num2=num2\n",
    "        self.op=op\n",
    "    def add(self):\n",
    "            print(self.num1+self.num2)\n",
    "    def sub(self):\n",
    "        if self.op==\"-\":\n",
    "            print(self.num1-self.num2)\n",
    "    def div(self):\n",
    "        try:\n",
    "            print(self.num1/self.num2)\n",
    "                \n",
    "        except:\n",
    "            print('divide by zero')\n",
    "        finally:\n",
    "            print('Thanks')\n",
    "    def mu(self):\n",
    "         print(self.num1*self.num2)\n",
    "    def calculate(self):\n",
    "        if self.op=='+':\n",
    "            v=self.add()\n",
    "        elif self.op=='-':\n",
    "            c=self.sub()\n",
    "        elif self.op=='/':\n",
    "            b=self.div()\n",
    "        elif self.op=='*':\n",
    "            x=self.mu()\n",
    "            \n",
    "        \n",
    "            \n",
    "        \n",
    "            \n",
    "        \n",
    "        \n",
    "     \n",
    "        \n",
    "s=clac(1,2,\"/\")\n",
    "s.calculate()"
   ]
  }
 ],
 "metadata": {
  "kernelspec": {
   "display_name": "Python 3 (ipykernel)",
   "language": "python",
   "name": "python3"
  },
  "language_info": {
   "codemirror_mode": {
    "name": "ipython",
    "version": 3
   },
   "file_extension": ".py",
   "mimetype": "text/x-python",
   "name": "python",
   "nbconvert_exporter": "python",
   "pygments_lexer": "ipython3",
   "version": "3.9.12"
  }
 },
 "nbformat": 4,
 "nbformat_minor": 5
}
