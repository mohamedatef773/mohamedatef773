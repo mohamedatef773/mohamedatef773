{
 "cells": [
  {
   "cell_type": "markdown",
   "metadata": {
    "collapsed": true
   },
   "source": [
    "# Assignment 2\n",
    "Let's test your knowledge!"
   ]
  },
  {
   "cell_type": "markdown",
   "metadata": {},
   "source": [
    "_____\n",
    "**Use <code>for</code>, .split(), and <code>if</code> to create a Statement that will print out words that start with 's':**"
   ]
  },
  {
   "cell_type": "code",
   "execution_count": 2,
   "metadata": {},
   "outputs": [],
   "source": [
    "st = 'Print only the words that start with s in this sentence'"
   ]
  },
  {
   "cell_type": "code",
   "execution_count": 27,
   "metadata": {},
   "outputs": [
    {
     "name": "stdout",
     "output_type": "stream",
     "text": [
      "start\n",
      "s\n",
      "sentence\n"
     ]
    }
   ],
   "source": [
    "x=st.split()\n",
    "\n",
    "\n",
    "for i in  range(len(x)):\n",
    "    if x[i][0]=='s':\n",
    "        print(x[i])\n",
    "\n",
    "    "
   ]
  },
  {
   "cell_type": "markdown",
   "metadata": {},
   "source": [
    "______\n",
    "**Use range() to print all the even numbers from 0 to 10.**"
   ]
  },
  {
   "cell_type": "code",
   "execution_count": 29,
   "metadata": {},
   "outputs": [
    {
     "name": "stdout",
     "output_type": "stream",
     "text": [
      "0 even numbers\n",
      "2 even numbers\n",
      "4 even numbers\n",
      "6 even numbers\n",
      "8 even numbers\n",
      "10 even numbers\n"
     ]
    }
   ],
   "source": [
    "for i in range(11):\n",
    "    if i%2==0:\n",
    "        print(i ,\"even numbers\")"
   ]
  },
  {
   "cell_type": "markdown",
   "metadata": {},
   "source": [
    "___\n",
    "**Use a List Comprehension to create a list of all numbers between 1 and 50 that are divisible by 3.**"
   ]
  },
  {
   "cell_type": "code",
   "execution_count": 39,
   "metadata": {},
   "outputs": [
    {
     "name": "stdout",
     "output_type": "stream",
     "text": [
      "[3, 6, 9, 12, 15, 18, 21, 24, 27, 30, 33, 36, 39, 42, 45, 48]\n"
     ]
    }
   ],
   "source": [
    "#Code Here\n",
    "list_1=[]\n",
    "for i  in range(1,51):\n",
    "    if i %3==0:\n",
    "        list_1.append(i)\n",
    "print(list_1)"
   ]
  },
  {
   "cell_type": "markdown",
   "metadata": {},
   "source": [
    "_____\n",
    "**Go through the string below and if the length of a word is even print \"even!\"**"
   ]
  },
  {
   "cell_type": "code",
   "execution_count": 46,
   "metadata": {},
   "outputs": [],
   "source": [
    "st = 'Print every word in this sentence that has an even number of letters'"
   ]
  },
  {
   "cell_type": "code",
   "execution_count": 61,
   "metadata": {},
   "outputs": [
    {
     "name": "stdout",
     "output_type": "stream",
     "text": [
      "['word', 'in', 'this', 'sentence', 'that', 'an', 'even', 'number', 'of']\n"
     ]
    }
   ],
   "source": [
    "#Code in this cell\n",
    "x=st.split()\n",
    "x_1=[]\n",
    "for i in range(len(x)):\n",
    "    if len(x[i])%2==0:\n",
    "        x_1.append(x[i])\n",
    "        \n",
    "print(x_1)"
   ]
  },
  {
   "cell_type": "markdown",
   "metadata": {},
   "source": [
    "____\n",
    "**Write a program that prints the integers from 1 to 100. But for multiples of three print \"Fizz\" instead of the number, and for the multiples of five print \"Buzz\". For numbers which are multiples of both three and five print \"FizzBuzz\".**"
   ]
  },
  {
   "cell_type": "code",
   "execution_count": 63,
   "metadata": {},
   "outputs": [
    {
     "name": "stdout",
     "output_type": "stream",
     "text": [
      "FIZZ 3\n",
      "BUZZ 5\n",
      "FIZZ 6\n",
      "FIZZ 9\n",
      "BUZZ 10\n",
      "FIZZ 12\n",
      "FIZZ 15\n",
      "FIZZ 18\n",
      "BUZZ 20\n",
      "FIZZ 21\n",
      "FIZZ 24\n",
      "BUZZ 25\n",
      "FIZZ 27\n",
      "FIZZ 30\n",
      "FIZZ 33\n",
      "BUZZ 35\n",
      "FIZZ 36\n",
      "FIZZ 39\n",
      "BUZZ 40\n",
      "FIZZ 42\n",
      "FIZZ 45\n",
      "FIZZ 48\n",
      "BUZZ 50\n",
      "FIZZ 51\n",
      "FIZZ 54\n",
      "BUZZ 55\n",
      "FIZZ 57\n",
      "FIZZ 60\n",
      "FIZZ 63\n",
      "BUZZ 65\n",
      "FIZZ 66\n",
      "FIZZ 69\n",
      "BUZZ 70\n",
      "FIZZ 72\n",
      "FIZZ 75\n",
      "FIZZ 78\n",
      "BUZZ 80\n",
      "FIZZ 81\n",
      "FIZZ 84\n",
      "BUZZ 85\n",
      "FIZZ 87\n",
      "FIZZ 90\n",
      "FIZZ 93\n",
      "BUZZ 95\n",
      "FIZZ 96\n",
      "FIZZ 99\n",
      "BUZZ 100\n"
     ]
    }
   ],
   "source": [
    "#Code in this cell\n",
    "for  i in range (1,101):\n",
    "    if i%3==0:\n",
    "        print('FIZZ',i)\n",
    "    elif i%5==0:\n",
    "        print('BUZZ',i)\n",
    "    elif i%5==0 and i%3==0:\n",
    "        print('FIZZ AND  BUZZ',i)"
   ]
  },
  {
   "cell_type": "markdown",
   "metadata": {},
   "source": [
    "____\n",
    "**Use List Comprehension to create a list of the first letters of every word in the string below:**"
   ]
  },
  {
   "cell_type": "code",
   "execution_count": 65,
   "metadata": {},
   "outputs": [],
   "source": [
    "st = 'Create a list of the first letters of every word in this string'"
   ]
  },
  {
   "cell_type": "code",
   "execution_count": 106,
   "metadata": {},
   "outputs": [
    {
     "name": "stdout",
     "output_type": "stream",
     "text": [
      "['C', 'a', 'l', 'o', 't', 'f', 'l', 'o', 'e', 'w', 'i', 't', 's']\n"
     ]
    }
   ],
   "source": [
    "#Code in this cell\n",
    "x=st.split()\n",
    "\n",
    "y=[]\n",
    "for i in  range(len(x)):\n",
    "    y.append(x[i][0])\n",
    "#      print(x[i][0] )\n",
    "    \n",
    "\n",
    "print(y)"
   ]
  },
  {
   "cell_type": "markdown",
   "metadata": {},
   "source": [
    "### Great Job!"
   ]
  }
 ],
 "metadata": {
  "kernelspec": {
   "display_name": "Python 3 (ipykernel)",
   "language": "python",
   "name": "python3"
  },
  "language_info": {
   "codemirror_mode": {
    "name": "ipython",
    "version": 3
   },
   "file_extension": ".py",
   "mimetype": "text/x-python",
   "name": "python",
   "nbconvert_exporter": "python",
   "pygments_lexer": "ipython3",
   "version": "3.9.12"
  }
 },
 "nbformat": 4,
 "nbformat_minor": 1
}
